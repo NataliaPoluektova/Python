{
  "cells": [
    {
      "cell_type": "markdown",
      "metadata": {
        "id": "hu7DJGOB1qgC"
      },
      "source": [
        "# Практична робота №1\n",
        "**Тема:** Введення та виведення даних, математичні обчислення.\n",
        "\n",
        "## Мета роботи\n",
        "1. Ознайомитися з основами роботи в середовищі програмування Python.\n",
        "2. Навчитися запускати прості програми та зберігати результати роботи.\n",
        "3. Освоїти базові операції введення, виведення та обчислення в Python.\n",
        "4. Навчитися надавати результати  у зручному форматі.\n"
      ]
    },
    {
      "cell_type": "markdown",
      "metadata": {
        "id": "M3wEkNDD1qgE"
      },
      "source": [
        "**Завдання 1**\n",
        "\n",
        "Напишіть програму, яка запитує ім'я та вік користувача, та виводить вітання та вік користувача наступного року.\n",
        "\n",
        "\n",
        "Виконайте приклад нижче"
      ]
    },
    {
      "cell_type": "code",
      "execution_count": null,
      "metadata": {
        "id": "h-th4g9M1qgF"
      },
      "outputs": [],
      "source": [
        "# Ця програма зчитує два числа і виводить їхню суму:\n",
        "a = int(input())\n",
        "b = int(input())\n",
        "print(a + b)\n"
      ]
    },
    {
      "cell_type": "markdown",
      "source": [
        "**Завдання для самостійного виконання 1**\n",
        "\n",
        "Напишіть програму, яка зчитує 2 числа та виводить їхню різницю, добуток та частку"
      ],
      "metadata": {
        "id": "MviPVeXdheht"
      }
    },
    {
      "cell_type": "code",
      "source": [
        "#Ваш код тут:"
      ],
      "metadata": {
        "id": "lDPAsPYnirS8"
      },
      "execution_count": null,
      "outputs": []
    },
    {
      "cell_type": "markdown",
      "source": [
        "**Завдання 2**\n",
        "\n",
        "Напишить програму, яка запитує ім'я користувача, його вік та сповіщає користувача, скільки років йому буде наступного року\n",
        "\n",
        "Виконайте приклад нижче:"
      ],
      "metadata": {
        "id": "zSIQ96PzinUU"
      }
    },
    {
      "cell_type": "code",
      "source": [
        "name = input(\"Ваше ім'я\")\n",
        "age = int(input('Скільки Вам років'))\n",
        "print(f'наступного року Вам, {name} буде {age+1} років')"
      ],
      "metadata": {
        "id": "pePz6DuiiopD"
      },
      "execution_count": null,
      "outputs": []
    },
    {
      "cell_type": "markdown",
      "source": [
        "**Завдання для самостійного виконання 2**\n",
        "\n",
        "Напишіть програму, яка запитує ім'я користувача та рік його народження, а також, скільки залишилось до 60 років. Потім виводить все у f-рядку."
      ],
      "metadata": {
        "id": "w3lqRPLOiqPr"
      }
    },
    {
      "cell_type": "code",
      "source": [
        "#Ваш код тут:"
      ],
      "metadata": {
        "id": "dgSeV1ctkgkE"
      },
      "execution_count": null,
      "outputs": []
    },
    {
      "cell_type": "markdown",
      "metadata": {
        "id": "vS1Krr8UiWZN"
      },
      "source": [
        "**Завдання 3**\n",
        "\n",
        "Напишіть програму, яка Обчисліть середнє трьох чисел.\n",
        "\n",
        "Виконайте приклад нижче"
      ]
    },
    {
      "cell_type": "code",
      "source": [
        "a = float(input())\n",
        "b = float(input())\n",
        "c = float(input())\n",
        "print(\"Середнє:\", (a + b + c) / 3)"
      ],
      "metadata": {
        "id": "urVcRJZVlPi7"
      },
      "execution_count": null,
      "outputs": []
    },
    {
      "cell_type": "markdown",
      "source": [
        "**Завдання для самостійного виконання 3**\n",
        "\n",
        "Обчислити середньоквадратичне трьох чисел ![image.png](data:image/png;base64,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)\n",
        "\n",
        "На початку потрібно імпортувати бібліотеку математичних функцій\n",
        "\n",
        "import math\n",
        "\n",
        "Потім використовувати конструкцію\n",
        "\n",
        "rms = math.sqrt((a**2 + b**2 + c**2) / 3)\n"
      ],
      "metadata": {
        "id": "5OEiu3NBnNP8"
      }
    },
    {
      "cell_type": "code",
      "source": [
        "#Ваш код тут\n"
      ],
      "metadata": {
        "id": "qVm35MLcnozM"
      },
      "execution_count": null,
      "outputs": []
    },
    {
      "cell_type": "markdown",
      "source": [
        "**Завдання 4**\n",
        "\n",
        "Введіть температуру в Цельсіях. Переведіть у Фаренгейти.\n",
        "\n",
        "Виконайте приклад нижче:"
      ],
      "metadata": {
        "id": "rGg7vrpFoawT"
      }
    },
    {
      "cell_type": "code",
      "source": [
        "# Ввід температури в Цельсіях\n",
        "celsius = float(input(\"Введіть температуру в Цельсіях: \"))\n",
        "\n",
        "# Формула перетворення\n",
        "fahrenheit = celsius * 9 / 5 + 32\n",
        "\n",
        "# Вивід результату\n",
        "print(\"Температура у Фаренгейтах:\", round(fahrenheit, 2))"
      ],
      "metadata": {
        "id": "ClyqxQT0omEE"
      },
      "execution_count": null,
      "outputs": []
    },
    {
      "cell_type": "markdown",
      "source": [
        "**Завдання для самостійного виконання 4**\n",
        "\n",
        "Введіть довжину у кілометрах. Переведіть у мілі"
      ],
      "metadata": {
        "id": "aehovb9qovjz"
      }
    },
    {
      "cell_type": "code",
      "source": [
        "#Ваш код тут:"
      ],
      "metadata": {
        "id": "VtnH5IKjo9x0"
      },
      "execution_count": null,
      "outputs": []
    },
    {
      "cell_type": "markdown",
      "source": [
        "**Завдання 5**\n",
        "\n",
        "Введіть кількість днів. Переведіть у тижні та дні\n",
        "\n",
        "Виконайте код нижче:"
      ],
      "metadata": {
        "id": "avCfk8I1pBPU"
      }
    },
    {
      "cell_type": "code",
      "source": [
        "# Ввід кількості днів\n",
        "days = int(input(\"Введіть кількість днів: \"))\n",
        "\n",
        "# Обчислення тижнів і днів\n",
        "weeks = days // 7\n",
        "remaining_days = days % 7\n",
        "\n",
        "# Вивід результату\n",
        "print(f\"{days} днів — це {weeks} тиж(нів) і {remaining_days} дн(ів).\")"
      ],
      "metadata": {
        "id": "QDwFuvAepgE1"
      },
      "execution_count": null,
      "outputs": []
    },
    {
      "cell_type": "markdown",
      "source": [
        "**Завдання для самостійного виконання 5**\n",
        "\n",
        "Введіть кількість секунд. Переведіть у години, хвилини та секунди"
      ],
      "metadata": {
        "id": "kxIVkGHdphx7"
      }
    },
    {
      "cell_type": "code",
      "source": [
        "#Ваш код тут:"
      ],
      "metadata": {
        "id": "9Jr4CicapwYM"
      },
      "execution_count": null,
      "outputs": []
    },
    {
      "cell_type": "markdown",
      "source": [
        "**Завдання 6**\n",
        "\n",
        "Напишить програму, яка генерує три випадкових числа від 1 до 10 та виводить їх з 2 знаками після коми у f-рядку\n",
        "\n",
        "Виконайте приклад нижче\n"
      ],
      "metadata": {
        "id": "ZyCRgG3xp4Wb"
      }
    },
    {
      "cell_type": "code",
      "source": [
        "import random\n",
        "\n",
        "# Генерація трьох випадкових чисел\n",
        "a = random.uniform(1, 10)\n",
        "b = random.uniform(1, 10)\n",
        "c = random.uniform(1, 10)\n",
        "\n",
        "# Вивід з округленням до 2 знаків\n",
        "print(f\"Числа: {a:.2f}, {b:.2f}, {c:.2f}\")"
      ],
      "metadata": {
        "id": "X2xSX4DLqg7h",
        "outputId": "5f036460-bc70-435f-a01f-b8c8d5f7b92a",
        "colab": {
          "base_uri": "https://localhost:8080/"
        }
      },
      "execution_count": null,
      "outputs": [
        {
          "output_type": "stream",
          "name": "stdout",
          "text": [
            "Числа: 7.67, 4.91, 7.63\n"
          ]
        }
      ]
    },
    {
      "cell_type": "markdown",
      "source": [
        "**Завдання для самостійного виконання 6**\n",
        "\n",
        "Згенеруйте два випадкових цілих числа від 1 до 10 та виведіть суму їх квадратів."
      ],
      "metadata": {
        "id": "eiJCzNYGrX_U"
      }
    },
    {
      "cell_type": "code",
      "source": [
        "#Ваш код тут:"
      ],
      "metadata": {
        "id": "GgmAbb2CqUHU"
      },
      "execution_count": null,
      "outputs": []
    },
    {
      "cell_type": "markdown",
      "source": [
        "**Завдання для самостійного виконання 7**\n",
        "\n",
        "Напишіть програму, яка отримує на вхід 3 числа – години, хвилини, секунди та виводить результат у форматі гг:хх:сс"
      ],
      "metadata": {
        "id": "qeqDs7J2sNLE"
      }
    },
    {
      "cell_type": "code",
      "source": [
        "#Ваш код тут"
      ],
      "metadata": {
        "id": "EYh5gO0DsW3c"
      },
      "execution_count": null,
      "outputs": []
    },
    {
      "cell_type": "markdown",
      "source": [
        "**Завдання для самостійного виконання 8**\n",
        "\n",
        "Напиши програму, яка отримує на вхід діаметр та обчислює та виводить у зрозумілому форматі довжину окружності та площу круга"
      ],
      "metadata": {
        "id": "HO0UcTAIsZec"
      }
    },
    {
      "cell_type": "code",
      "source": [
        "#Ваш код тут"
      ],
      "metadata": {
        "id": "qSBhf60Rsfu8"
      },
      "execution_count": null,
      "outputs": []
    },
    {
      "cell_type": "markdown",
      "source": [
        "**Завдання для самостійного виконання 9**\n",
        "\n",
        "Напишіть програму, яка отримує на вхід число від 420 до 540 (оптимальна тривалість сну у хвилинах) і допомагає користувачеві визначити, на який час (у форматі «години:хвилини») потрібно встановити дзвінок будильника. Відлік часу починається з півночі"
      ],
      "metadata": {
        "id": "KE3zUjT3sjrL"
      }
    },
    {
      "cell_type": "code",
      "source": [
        "#Ваш код тут"
      ],
      "metadata": {
        "id": "6y41vUdbsu08"
      },
      "execution_count": null,
      "outputs": []
    },
    {
      "cell_type": "markdown",
      "source": [
        "**Завдання для самостійного виконання 10**\n",
        "\n",
        "Конвертуйте долари в євро за заданим курсом."
      ],
      "metadata": {
        "id": "c3F6CWjOs5a7"
      }
    },
    {
      "cell_type": "code",
      "source": [
        "#Ваш код тут"
      ],
      "metadata": {
        "id": "u3jwjrDvtHZW"
      },
      "execution_count": null,
      "outputs": []
    },
    {
      "cell_type": "markdown",
      "source": [
        "**ІДЗ**\n",
        "\n",
        "**Виконайте завдання свого варіанту**\n",
        "\n",
        "1️⃣ Введіть суму в гривнях. Виведіть кількість купюр по 500, 200, 100, 50, 20, 10, 5, 1, з яких можна скласти цю суму,  використовуючи лише // і %\n",
        "\n",
        "2️⃣ Введіть суму. Виведіть кількість купюр по 100, 50, 20, 10, 5, з яких можна скласти цю сумувикористовуючи лише // і %\n",
        "\n",
        "3️⃣ Введіть суму. Виведіть кількість купюр по 200, 100, 50, 10, з яких можна скласти цю суму, використовуючи лише // і %\n",
        "\n",
        "4️⃣ Введіть суму. Виведіть кількість купюр по 500, 100, з яких можна скласти цю суму, використовуючи лише // і %\n",
        "\n",
        "5️⃣ Введіть суму. Виведіть кількість купюр по 100, 20, 1, з яких можна скласти цю суму,використовуючи лише // і %\n",
        "\n",
        "6️⃣ Введіть суму. Виведіть кількість купюр по 50, 10, з яких можна скласти цю суму,використовуючи лише // і %\n",
        "\n",
        "7️⃣ Введіть суму. Виведіть кількість купюр по 200, 50, 5, з яких можна скласти цю суму, використовуючи лише // і %\n",
        "\n",
        "8️⃣ Введіть суму. Виведіть кількість купюр по 100, 50, 20, 10, 5, , з яких можна скласти цю суму, без використання умов і циклів, використовуючи лише // і %\n",
        "\n",
        "9️⃣ Введіть суму. Виведіть кількість купюр по 500, 200, 100, 50, 20, 10, 5, 1, з яких можна скласти цю суму, використовуючи лише арифметику.\n",
        "\n",
        "🔟 Введіть суму. Виведіть кількість купюр по 100, 50, 10, 1, з яких можна скласти цю суму, використовуючи лише // і %\n",
        "\n",
        "1️⃣1️⃣ Введіть суму. Виведіть кількість купюр по 200, 100, 50, 20, 10, 5, 1, з яких можна скласти цю суму, використовуючи лише // і %\n",
        "\n",
        "1️⃣2️⃣ Введіть суму. Виведіть кількість купюр по 500, 100, 10, 1, з яких можна скласти цю суму, використовуючи лише // і %.\n",
        "\n",
        "1️⃣3️⃣ Введіть суму. Виведіть кількість купюр по 100, 50, 20, 10, 5, 1, з яких можна скласти цю суму, використовуючи лише // і %\n",
        "\n",
        "1️⃣4️⃣ Введіть суму. Виведіть кількість купюр по 200, 50, 5, 1, з яких можна скласти цю суму, використовуючи лише // і %\n",
        "\n",
        "1️⃣5️⃣ Введіть суму. Виведіть кількість купюр по 100, 20, 10, 5, 1, з яких можна скласти цю суму, використовуючи лише змінні та арифметичні операції."
      ],
      "metadata": {
        "id": "mX1SHwf4tJqU"
      }
    },
    {
      "cell_type": "code",
      "source": [],
      "metadata": {
        "id": "eJWclGxYvmXs"
      },
      "execution_count": null,
      "outputs": []
    }
  ],
  "metadata": {
    "colab": {
      "provenance": []
    },
    "kernelspec": {
      "display_name": "Python 3",
      "name": "python3"
    },
    "language_info": {
      "name": "python"
    }
  },
  "nbformat": 4,
  "nbformat_minor": 0
}